{
  "nbformat": 4,
  "nbformat_minor": 0,
  "metadata": {
    "colab": {
      "name": "Python Tutorial Quiz.ipynb",
      "provenance": [],
      "authorship_tag": "ABX9TyPWJmO65MIVvkZpW3uc7S9/",
      "include_colab_link": true
    },
    "kernelspec": {
      "name": "python3",
      "display_name": "Python 3"
    },
    "language_info": {
      "name": "python"
    }
  },
  "cells": [
    {
      "cell_type": "markdown",
      "metadata": {
        "id": "view-in-github",
        "colab_type": "text"
      },
      "source": [
        "<a href=\"https://colab.research.google.com/github/MingzheHu-Duke/Emory_BMI500/blob/main/Python_Tutorial_Quiz.ipynb\" target=\"_parent\"><img src=\"https://colab.research.google.com/assets/colab-badge.svg\" alt=\"Open In Colab\"/></a>"
      ]
    },
    {
      "cell_type": "markdown",
      "metadata": {
        "id": "sa3QyhJdri8K"
      },
      "source": [
        "**Problem 1**"
      ]
    },
    {
      "cell_type": "code",
      "metadata": {
        "id": "GqVdez9ysawM"
      },
      "source": [
        "def leb_func(n):\n",
        "  ans = 0\n",
        "  for i in range(n + 1):\n",
        "    ans += (-1)**i / (2*i + 1)\n",
        "  return ans"
      ],
      "execution_count": 8,
      "outputs": []
    },
    {
      "cell_type": "markdown",
      "metadata": {
        "id": "VmeXlCAgtGvz"
      },
      "source": [
        "**Problem 2**  \n",
        "2.1"
      ]
    },
    {
      "cell_type": "code",
      "metadata": {
        "id": "MlI2I5aqtyKT"
      },
      "source": [
        "def leb_2_1(n):\n",
        "  ans = 0\n",
        "  for i in range(n + 1):\n",
        "    if i%2 == 0:\n",
        "      ans += 1/(2*i + 1)\n",
        "    else:\n",
        "      ans -= 1/(2*i + 1)\n",
        "  return ans"
      ],
      "execution_count": 17,
      "outputs": []
    },
    {
      "cell_type": "markdown",
      "metadata": {
        "id": "rbHMClUIvfXL"
      },
      "source": [
        "2.2"
      ]
    },
    {
      "cell_type": "code",
      "metadata": {
        "id": "2lGyPDx3vjGY"
      },
      "source": [
        "def leb_2_2(n):\n",
        "  ans = 0\n",
        "  for i in range(n + 1):\n",
        "    if (-1)**i == 1:\n",
        "      ans += 1/(2*i + 1)\n",
        "    else:\n",
        "      ans -= 1/(2*i + 1)\n",
        "  return ans"
      ],
      "execution_count": 19,
      "outputs": []
    },
    {
      "cell_type": "markdown",
      "metadata": {
        "id": "pK7eUnSIwLY_"
      },
      "source": [
        "2.3"
      ]
    },
    {
      "cell_type": "code",
      "metadata": {
        "id": "fb2VPizawWZJ"
      },
      "source": [
        "def leb_2_3(n):\n",
        "  list_leb = []\n",
        "  for i in range(n + 1):\n",
        "    list_leb.append((-1)**i / (2*i + 1))\n",
        "  ans = sum(list_leb)\n",
        "  return ans"
      ],
      "execution_count": 21,
      "outputs": []
    },
    {
      "cell_type": "markdown",
      "metadata": {
        "id": "mBMjhlcCw_PU"
      },
      "source": [
        "2.4"
      ]
    },
    {
      "cell_type": "code",
      "metadata": {
        "id": "p1AMQH5rxE24"
      },
      "source": [
        "def leb_2_4(n):\n",
        "  set_leb = set()\n",
        "  for i in range(n + 1):\n",
        "    set_leb.add((-1)**i / (2*i + 1))\n",
        "  ans = sum(set_leb)\n",
        "  return ans"
      ],
      "execution_count": 24,
      "outputs": []
    },
    {
      "cell_type": "markdown",
      "metadata": {
        "id": "gBgC_AFOxn2k"
      },
      "source": [
        "2.5"
      ]
    },
    {
      "cell_type": "code",
      "metadata": {
        "id": "0JuzVv1hxpT8"
      },
      "source": [
        "def leb_2_5(n):\n",
        "  dict_leb = dict()\n",
        "  for i in range(n + 1):\n",
        "    dict_leb[i] = ((-1)**i / (2*i + 1))\n",
        "  ans = sum(dict_leb.values())\n",
        "  return ans"
      ],
      "execution_count": 39,
      "outputs": []
    },
    {
      "cell_type": "markdown",
      "metadata": {
        "id": "W3Foja9PyQx1"
      },
      "source": [
        "2.6"
      ]
    },
    {
      "cell_type": "code",
      "metadata": {
        "id": "9yzxjkwHzeAw"
      },
      "source": [
        "import numpy as np"
      ],
      "execution_count": 42,
      "outputs": []
    },
    {
      "cell_type": "code",
      "metadata": {
        "id": "gPXwg_6jySSN"
      },
      "source": [
        "def leb_2_6(n):\n",
        "  np_leb = np.zeros(1)\n",
        "  for i in range(n + 1):\n",
        "    np_leb = np.append(np_leb, (-1)**i / (2*i + 1))\n",
        "  ans = sum(np_leb)\n",
        "  return ans"
      ],
      "execution_count": 58,
      "outputs": []
    },
    {
      "cell_type": "markdown",
      "metadata": {
        "id": "aY_e9x60yd8L"
      },
      "source": [
        "2.7"
      ]
    },
    {
      "cell_type": "code",
      "metadata": {
        "id": "2AhtUbfZzoUW"
      },
      "source": [
        "def leb_2_7(n):\n",
        "  np_leb2 = np.zeros((n, 2))\n",
        "  for i in range(n + 1):\n",
        "    if (-1)**i == 1:\n",
        "      np_leb2[i//2, 0] = 1/(2*i + 1)\n",
        "    else:\n",
        "      np_leb2[i//2, 1] = -1/(2*i + 1)\n",
        "  ans = np.sum(np_leb2)\n",
        "  return ans"
      ],
      "execution_count": 68,
      "outputs": []
    },
    {
      "cell_type": "markdown",
      "metadata": {
        "id": "16sotFl-xjtE"
      },
      "source": [
        "2.8"
      ]
    },
    {
      "cell_type": "code",
      "metadata": {
        "id": "FpBS4V9OKhCi"
      },
      "source": [
        "def leb_2_8(n):\n",
        "  ans = 0\n",
        "  for i in range(0, n+1, 2):\n",
        "    ans += (1/(2*i + 1) - 1/(2*i + 3))\n",
        "  return ans"
      ],
      "execution_count": 73,
      "outputs": []
    },
    {
      "cell_type": "code",
      "metadata": {
        "id": "qaW50_3iLiIQ"
      },
      "source": [
        "a = [leb_2_1, leb_2_2]"
      ],
      "execution_count": 79,
      "outputs": []
    },
    {
      "cell_type": "markdown",
      "metadata": {
        "id": "5RUR30EgMqOi"
      },
      "source": [
        "**Problem 3**"
      ]
    },
    {
      "cell_type": "code",
      "metadata": {
        "id": "aYO_bigENrLz"
      },
      "source": [
        "# Define the function that calculate the accuracy\n",
        "def acu_fun(ans):\n",
        "  abs_err = abs(np.pi - 4*ans)\n",
        "  return abs_err"
      ],
      "execution_count": 82,
      "outputs": []
    },
    {
      "cell_type": "code",
      "metadata": {
        "id": "lZm7RflzOA27"
      },
      "source": [
        "func_list = [leb_func, leb_2_1, leb_2_2, leb_2_3, leb_2_4, leb_2_5, leb_2_6, leb_2_7, leb_2_8]"
      ],
      "execution_count": 88,
      "outputs": []
    },
    {
      "cell_type": "code",
      "metadata": {
        "colab": {
          "base_uri": "https://localhost:8080/"
        },
        "id": "NZ5EbS86OnGp",
        "outputId": "1140e962-b611-48a3-bd7d-0357f71a71db"
      },
      "source": [
        "from pprint import pprint\n",
        "import timeit\n",
        "emp_dict = dict()\n",
        "for i in func_list:\n",
        "  time_len = timeit.timeit(\"i(10000)\", \"from __main__ import i\",number=10)\n",
        "  error = acu_fun(i(n))\n",
        "  emp_dict[\"{}\".format(i.__name__)] = (time_len, error)\n",
        "pprint(emp_dict)"
      ],
      "execution_count": 107,
      "outputs": [
        {
          "output_type": "stream",
          "name": "stdout",
          "text": [
            "{'leb_2_1': (0.021143968000615132, 9.99900007414567e-05),\n",
            " 'leb_2_2': (0.045057674000418046, 9.99900007414567e-05),\n",
            " 'leb_2_3': (0.0460336729993287, 9.99900007414567e-05),\n",
            " 'leb_2_4': (0.05523144299877458, 9.99900007618848e-05),\n",
            " 'leb_2_5': (0.047816093001529225, 9.99900007414567e-05),\n",
            " 'leb_2_6': (0.7721826920005697, 9.99900007414567e-05),\n",
            " 'leb_2_7': (0.05721599200114724, 9.999000074856212e-05),\n",
            " 'leb_2_8': (0.013925504999861005, 9.998000375555094e-05),\n",
            " 'leb_func': (0.041962371999034076, 9.99900007414567e-05)}\n"
          ]
        }
      ]
    },
    {
      "cell_type": "markdown",
      "metadata": {
        "id": "RJTh_XT5PM-8"
      },
      "source": [
        "As we can see, the function \"leb_2_8\" used the minimum time and had the least error."
      ]
    },
    {
      "cell_type": "markdown",
      "metadata": {
        "id": "UmMEaIkTS3ko"
      },
      "source": [
        "**Question 4:**"
      ]
    },
    {
      "cell_type": "code",
      "metadata": {
        "colab": {
          "base_uri": "https://localhost:8080/",
          "height": 638
        },
        "id": "eSQbFyQiTBkD",
        "outputId": "1b71b549-02e8-4bd3-e534-2b2430328e19"
      },
      "source": [
        "import matplotlib.pyplot as plt\n",
        "\n",
        "error_list = []\n",
        "for i in range(1000):\n",
        "  error = acu_fun(leb_2_8(i))\n",
        "  error_list.append(error)\n",
        "plt.figure(figsize=(10, 10))\n",
        "plt.plot(error_list)\n",
        "plt.title(\"Errors vs. Number of Terms\")\n",
        "plt.xlabel(\"Number of Terms\")\n",
        "plt.ylabel(\"Error\")"
      ],
      "execution_count": 115,
      "outputs": [
        {
          "output_type": "execute_result",
          "data": {
            "text/plain": [
              "Text(0, 0.5, 'Error')"
            ]
          },
          "metadata": {},
          "execution_count": 115
        },
        {
          "output_type": "display_data",
          "data": {
            "image/png": "[encoded data removed]",
            "text/plain": [
              "<Figure size 720x720 with 1 Axes>"
            ]
          },
          "metadata": {
            "needs_background": "light"
          }
        }
      ]
    },
    {
      "cell_type": "markdown",
      "metadata": {
        "id": "2jFnnGZ-UcDY"
      },
      "source": [
        "**Question 5**"
      ]
    },
    {
      "cell_type": "markdown",
      "metadata": {
        "id": "wmiisREcP81G"
      },
      "source": [
        "In the Matlab, we could achieve the calculation via Matrix Operation which may make the program even faster."
      ]
    }
  ]
}