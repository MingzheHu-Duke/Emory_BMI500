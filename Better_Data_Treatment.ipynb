{
  "nbformat": 4,
  "nbformat_minor": 0,
  "metadata": {
    "colab": {
      "name": "Better Data Treatment.ipynb",
      "provenance": [],
      "authorship_tag": "ABX9TyMERQT9QgJ11/JMDS5J7Gm7",
      "include_colab_link": true
    },
    "kernelspec": {
      "name": "python3",
      "display_name": "Python 3"
    },
    "language_info": {
      "name": "python"
    }
  },
  "cells": [
    {
      "cell_type": "markdown",
      "metadata": {
        "id": "view-in-github",
        "colab_type": "text"
      },
      "source": [
        "<a href=\"https://colab.research.google.com/github/MingzheHu-Duke/Emory_BMI500/blob/main/Better_Data_Treatment.ipynb\" target=\"_parent\"><img src=\"https://colab.research.google.com/assets/colab-badge.svg\" alt=\"Open In Colab\"/></a>"
      ]
    },
    {
      "cell_type": "markdown",
      "metadata": {
        "id": "ax9_cDOgEZsy"
      },
      "source": [
        "# Better Data Treatment  \n",
        "  \n",
        "This Note Book will follow the following pipeline:  \n",
        "\n",
        "\n",
        "*   Collect Data\n",
        "*   Organize Data\n",
        "*   Clean Data\n",
        "*   Explore Data\n",
        "*   Apply models, algorithms, etc\n",
        "*   Summarize data and results\n",
        "\n"
      ]
    },
    {
      "cell_type": "code",
      "metadata": {
        "id": "ip7ACvcKGhYg"
      },
      "source": [
        "# Import Packages\n",
        "import pandas as pd\n",
        "import numpy as np\n",
        "import seaborn as sns\n",
        "import matplotlib.pyplot as plt"
      ],
      "execution_count": 30,
      "outputs": []
    },
    {
      "cell_type": "markdown",
      "metadata": {
        "id": "MMUuVFT2FQuc"
      },
      "source": [
        "# Collect Data"
      ]
    },
    {
      "cell_type": "code",
      "metadata": {
        "colab": {
          "base_uri": "https://localhost:8080/"
        },
        "id": "IXVR2fwOFrsL",
        "outputId": "30cbb663-5b8a-406f-908f-19b7d09aeb8a"
      },
      "source": [
        "!test -f geyser.csv && echo \"$FILE Meta Data Retreived!.\""
      ],
      "execution_count": null,
      "outputs": [
        {
          "output_type": "stream",
          "name": "stdout",
          "text": [
            " Meta Data Retreived!.\n"
          ]
        }
      ]
    },
    {
      "cell_type": "markdown",
      "metadata": {
        "id": "iKBYmtvvGPwH"
      },
      "source": [
        "# Organize Data"
      ]
    },
    {
      "cell_type": "code",
      "metadata": {
        "colab": {
          "base_uri": "https://localhost:8080/",
          "height": 388
        },
        "id": "OwYfRHBCGUC3",
        "outputId": "52ee7bcd-cd45-44a6-da11-e1027469bd47"
      },
      "source": [
        "# Read the meta data into a data frame\n",
        "df = pd.read_csv(\"geyser.csv\", sep=\",\", skiprows=range(30))\n",
        "# Peek the dataframe\n",
        "df.head(11)"
      ],
      "execution_count": 55,
      "outputs": [
        {
          "output_type": "execute_result",
          "data": {
            "text/html": [
              "<div>\n",
              "<style scoped>\n",
              "    .dataframe tbody tr th:only-of-type {\n",
              "        vertical-align: middle;\n",
              "    }\n",
              "\n",
              "    .dataframe tbody tr th {\n",
              "        vertical-align: top;\n",
              "    }\n",
              "\n",
              "    .dataframe thead th {\n",
              "        text-align: right;\n",
              "    }\n",
              "</style>\n",
              "<table border=\"1\" class=\"dataframe\">\n",
              "  <thead>\n",
              "    <tr style=\"text-align: right;\">\n",
              "      <th></th>\n",
              "      <th>eruptions</th>\n",
              "      <th>waiting</th>\n",
              "    </tr>\n",
              "  </thead>\n",
              "  <tbody>\n",
              "    <tr>\n",
              "      <th>0</th>\n",
              "      <td>3.600</td>\n",
              "      <td>79</td>\n",
              "    </tr>\n",
              "    <tr>\n",
              "      <th>1</th>\n",
              "      <td>1.800</td>\n",
              "      <td>54</td>\n",
              "    </tr>\n",
              "    <tr>\n",
              "      <th>2</th>\n",
              "      <td>3.333</td>\n",
              "      <td>74</td>\n",
              "    </tr>\n",
              "    <tr>\n",
              "      <th>3</th>\n",
              "      <td>2.283</td>\n",
              "      <td>62</td>\n",
              "    </tr>\n",
              "    <tr>\n",
              "      <th>4</th>\n",
              "      <td>4.533</td>\n",
              "      <td>85</td>\n",
              "    </tr>\n",
              "    <tr>\n",
              "      <th>5</th>\n",
              "      <td>2.883</td>\n",
              "      <td>55</td>\n",
              "    </tr>\n",
              "    <tr>\n",
              "      <th>6</th>\n",
              "      <td>4.700</td>\n",
              "      <td>88</td>\n",
              "    </tr>\n",
              "    <tr>\n",
              "      <th>7</th>\n",
              "      <td>3.600</td>\n",
              "      <td>85</td>\n",
              "    </tr>\n",
              "    <tr>\n",
              "      <th>8</th>\n",
              "      <td>1.950</td>\n",
              "      <td>51</td>\n",
              "    </tr>\n",
              "    <tr>\n",
              "      <th>9</th>\n",
              "      <td>4.350</td>\n",
              "      <td>85</td>\n",
              "    </tr>\n",
              "    <tr>\n",
              "      <th>10</th>\n",
              "      <td>NaN</td>\n",
              "      <td>NaN</td>\n",
              "    </tr>\n",
              "  </tbody>\n",
              "</table>\n",
              "</div>"
            ],
            "text/plain": [
              "   eruptions waiting\n",
              "0      3.600      79\n",
              "1      1.800      54\n",
              "2      3.333      74\n",
              "3      2.283      62\n",
              "4      4.533      85\n",
              "5      2.883      55\n",
              "6      4.700      88\n",
              "7      3.600      85\n",
              "8      1.950      51\n",
              "9      4.350      85\n",
              "10       NaN     NaN"
            ]
          },
          "metadata": {},
          "execution_count": 55
        }
      ]
    },
    {
      "cell_type": "code",
      "metadata": {
        "colab": {
          "base_uri": "https://localhost:8080/",
          "height": 0
        },
        "id": "WEkOnEfnT3w2",
        "outputId": "e6abc4e5-b2a3-4786-da94-4832b7129c4a"
      },
      "source": [
        "print(\"There are {} rows in the meta data.\".format(len(df)))"
      ],
      "execution_count": 53,
      "outputs": [
        {
          "output_type": "stream",
          "name": "stdout",
          "text": [
            "There are 280 rows in the meta data.\n"
          ]
        }
      ]
    },
    {
      "cell_type": "markdown",
      "metadata": {
        "id": "e3oy8KVAUmkN"
      },
      "source": [
        "Now let's check the column types of this data frame:"
      ]
    },
    {
      "cell_type": "code",
      "metadata": {
        "colab": {
          "base_uri": "https://localhost:8080/",
          "height": 0
        },
        "id": "o4roKQrmUSSV",
        "outputId": "92445926-c7fa-4e51-a1d7-38e34993e6f4"
      },
      "source": [
        "df.dtypes"
      ],
      "execution_count": 58,
      "outputs": [
        {
          "output_type": "execute_result",
          "data": {
            "text/plain": [
              "eruptions    object\n",
              "waiting      object\n",
              "dtype: object"
            ]
          },
          "metadata": {},
          "execution_count": 58
        }
      ]
    },
    {
      "cell_type": "markdown",
      "metadata": {
        "id": "tkDQwU9HUsXR"
      },
      "source": [
        "We can find that the data type of both of the columns are object  \n",
        "instead of \"float32\" or \"float64\" as we expected.  \n",
        "This indicates that there must be corrupted data (non numeric) in the  \n",
        "dataframe we created, so we have to fix it."
      ]
    },
    {
      "cell_type": "code",
      "metadata": {
        "colab": {
          "base_uri": "https://localhost:8080/",
          "height": 35
        },
        "id": "KQuYQN17PpCl",
        "outputId": "9d0b1afd-7354-46a2-81d9-886775486369"
      },
      "source": [
        "# For exmaple, the 1 is mistyped into l\n",
        "df.iloc[152-32][\"eruptions\"]"
      ],
      "execution_count": 52,
      "outputs": [
        {
          "output_type": "execute_result",
          "data": {
            "application/vnd.google.colaboratory.intrinsic+json": {
              "type": "string"
            },
            "text/plain": [
              "'1.8l7'"
            ]
          },
          "metadata": {},
          "execution_count": 52
        }
      ]
    },
    {
      "cell_type": "code",
      "metadata": {
        "id": "Xnnc5y5LVlV8"
      },
      "source": [
        "def correct_num_string(non_num_string):\n",
        "  try:\n",
        "    ans = non_num_string.replace(\"l\", \"1\")\n",
        "    ans = ans.replace(\"i\", \"1\")\n",
        "    ans = ans.replace(\"I\", \"1\")\n",
        "    ans = ans.replace(\"o\", \"0\")\n",
        "    ans = ans.replace(\"O\", \"0\")\n",
        "  except AttributeError:\n",
        "    ans = non_num_string\n",
        "  return ans"
      ],
      "execution_count": 118,
      "outputs": []
    },
    {
      "cell_type": "code",
      "metadata": {
        "id": "kFcVcjvtc7_7"
      },
      "source": [
        "def org_data(df_in):\n",
        "  df_out = df_in.applymap(correct_num_string)\n",
        "  df_out = df_out.apply(pd.to_numeric, errors=\"coerce\")\n",
        "  return df_out"
      ],
      "execution_count": 147,
      "outputs": []
    },
    {
      "cell_type": "code",
      "metadata": {
        "colab": {
          "base_uri": "https://localhost:8080/",
          "height": 0
        },
        "id": "gPtxYqKFdS2B",
        "outputId": "c485c45a-9484-4148-d272-2bc58845da58"
      },
      "source": [
        "# Now let's organize our data\n",
        "organized_df = org_data(df)\n",
        "# Check the data types of columns again\n",
        "organized_df.dtypes\n",
        "# We can see that the data types are correct now"
      ],
      "execution_count": 151,
      "outputs": [
        {
          "output_type": "execute_result",
          "data": {
            "text/plain": [
              "eruptions    float64\n",
              "waiting      float64\n",
              "dtype: object"
            ]
          },
          "metadata": {},
          "execution_count": 151
        }
      ]
    },
    {
      "cell_type": "code",
      "metadata": {
        "colab": {
          "base_uri": "https://localhost:8080/",
          "height": 0
        },
        "id": "r5R2MbWVdjzU",
        "outputId": "6d627cf9-09ce-449c-8708-0024b8b44caa"
      },
      "source": [
        "# The wrong letter is also corrected\n",
        "print(organized_df.iloc[185-32][\"eruptions\"])"
      ],
      "execution_count": 152,
      "outputs": [
        {
          "output_type": "stream",
          "name": "stdout",
          "text": [
            "5.033\n"
          ]
        }
      ]
    },
    {
      "cell_type": "code",
      "metadata": {
        "id": "lezo1DnDf1YE"
      },
      "source": [
        "# We should save the organized data into a file now\n",
        "organized_df.to_csv(\"organized_geyser.csv\")"
      ],
      "execution_count": 155,
      "outputs": []
    },
    {
      "cell_type": "markdown",
      "metadata": {
        "id": "VFesLyD3j23E"
      },
      "source": [
        "# Clean Data"
      ]
    },
    {
      "cell_type": "code",
      "metadata": {
        "colab": {
          "base_uri": "https://localhost:8080/",
          "height": 356
        },
        "id": "OuNpwmIIgzYY",
        "outputId": "b7c5682d-1c5b-4fcc-e715-00be9440c73f"
      },
      "source": [
        "# let's have a breif look at the distribution of the data\n",
        "sns.set_theme(style=\"whitegrid\")\n",
        "\n",
        "fig, axes = plt.subplots(1, 2, figsize=(10, 5))\n",
        "ax1 = axes[0]\n",
        "ax2 = axes[1]\n",
        "sns.boxplot(ax=ax1, data=organized_df, x=\"eruptions\")\n",
        "sns.boxplot(ax=ax2, data=organized_df, x=\"waiting\", palette=\"Reds\")"
      ],
      "execution_count": 176,
      "outputs": [
        {
          "output_type": "execute_result",
          "data": {
            "text/plain": [
              "<matplotlib.axes._subplots.AxesSubplot at 0x7f0485ea0050>"
            ]
          },
          "metadata": {},
          "execution_count": 176
        },
        {
          "output_type": "display_data",
          "data": {
            "image/png": "[encoded data removed]",
            "text/plain": [
              "<Figure size 720x360 with 2 Axes>"
            ]
          },
          "metadata": {}
        }
      ]
    },
    {
      "cell_type": "code",
      "metadata": {
        "colab": {
          "base_uri": "https://localhost:8080/",
          "height": 356
        },
        "id": "2RiZkvo-kGc1",
        "outputId": "ff516aef-e81a-4bb3-cf22-12a896eed964"
      },
      "source": [
        "# let's have a breif look at the distribution of the data\n",
        "sns.set_theme(style=\"whitegrid\")\n",
        "\n",
        "fig, axes = plt.subplots(1, 2, figsize=(10, 5))\n",
        "ax1 = axes[0]\n",
        "ax2 = axes[1]\n",
        "sns.violinplot(ax=ax1, data=organized_df, x=\"eruptions\")\n",
        "sns.violinplot(ax=ax2, data=organized_df, x=\"waiting\", palette=\"Reds\")"
      ],
      "execution_count": 177,
      "outputs": [
        {
          "output_type": "execute_result",
          "data": {
            "text/plain": [
              "<matplotlib.axes._subplots.AxesSubplot at 0x7f048607d410>"
            ]
          },
          "metadata": {},
          "execution_count": 177
        },
        {
          "output_type": "display_data",
          "data": {
            "image/png": "[encoded data removed]",
            "text/plain": [
              "<Figure size 720x360 with 2 Axes>"
            ]
          },
          "metadata": {}
        }
      ]
    },
    {
      "cell_type": "code",
      "metadata": {
        "colab": {
          "base_uri": "https://localhost:8080/",
          "height": 0
        },
        "id": "qRhnRQINjava",
        "outputId": "ed7eda14-a23a-4471-f9ed-b533c4299b66"
      },
      "source": [
        "df = organized_df\n",
        "print(\"The minmum value of each column is:\")\n",
        "df.min()"
      ],
      "execution_count": 241,
      "outputs": [
        {
          "output_type": "stream",
          "name": "stdout",
          "text": [
            "The minmum value of each column is:\n"
          ]
        },
        {
          "output_type": "execute_result",
          "data": {
            "text/plain": [
              "eruptions   -1.93\n",
              "waiting      6.00\n",
              "dtype: float64"
            ]
          },
          "metadata": {},
          "execution_count": 241
        }
      ]
    },
    {
      "cell_type": "code",
      "metadata": {
        "colab": {
          "base_uri": "https://localhost:8080/",
          "height": 0
        },
        "id": "FjiWRIc4kwaO",
        "outputId": "8c33a734-051f-41b4-ce7a-6c1e969013da"
      },
      "source": [
        "print(\"The maximum value of each column is:\")\n",
        "df.max()"
      ],
      "execution_count": 179,
      "outputs": [
        {
          "output_type": "stream",
          "name": "stdout",
          "text": [
            "The maximum value of each column is:\n"
          ]
        },
        {
          "output_type": "execute_result",
          "data": {
            "text/plain": [
              "eruptions    2800.0\n",
              "waiting        96.0\n",
              "dtype: float64"
            ]
          },
          "metadata": {},
          "execution_count": 179
        }
      ]
    },
    {
      "cell_type": "markdown",
      "metadata": {
        "id": "aLhxUbPzk-Iw"
      },
      "source": [
        "We noticed some very extreme and abnormal data points in the graph  \n",
        "which are outliers that we need to remove."
      ]
    },
    {
      "cell_type": "code",
      "metadata": {
        "id": "LQsgHIexygCO"
      },
      "source": [
        "def nan_row(df_in):\n",
        "  rows_with_nan = []\n",
        "  for index, row in df_in.iterrows():\n",
        "      is_nan_series = row.isnull()\n",
        "      if is_nan_series.any():\n",
        "          rows_with_nan.append(index)\n",
        "\n",
        "  return rows_with_nan"
      ],
      "execution_count": 243,
      "outputs": []
    },
    {
      "cell_type": "code",
      "metadata": {
        "colab": {
          "base_uri": "https://localhost:8080/",
          "height": 0
        },
        "id": "IpFyKsb3yjXT",
        "outputId": "c18fa112-6326-4b66-a852-34c3113fbd7e"
      },
      "source": [
        "print(\"The line index that include the missing data are:\")\n",
        "print(nan_row(df))\n",
        "print(\"The percentage of missing data is:\")\n",
        "print(\"{:.3%}\".format(2/len(df)))"
      ],
      "execution_count": 252,
      "outputs": [
        {
          "output_type": "stream",
          "name": "stdout",
          "text": [
            "The line index that include the missing data are:\n",
            "[10, 101]\n",
            "The percentage of missing data is:\n",
            "0.714%\n"
          ]
        }
      ]
    },
    {
      "cell_type": "markdown",
      "metadata": {
        "id": "bU0FqTdszE7Z"
      },
      "source": [
        "Since there are only two sets of missing data, we could just remove  \n",
        "them, instead of using interpolation.  \n",
        "If you want to use interploation for this data set, one of the published    \n",
        "literature mentioned to use linear interpolation, but I don't think that  \n",
        "sense.  \n",
        "https://www.pnas.org/content/118/2/e2020943118"
      ]
    },
    {
      "cell_type": "code",
      "metadata": {
        "id": "Z46aqHCOlM6U"
      },
      "source": [
        "# Negative values does not make sense in our data\n",
        "df = df[(df.eruptions >= 0) | (df.waiting >= 0)]"
      ],
      "execution_count": 188,
      "outputs": []
    },
    {
      "cell_type": "code",
      "metadata": {
        "id": "7zBDRpDImWP5"
      },
      "source": [
        "# Now we need to remove the outliers\n",
        "# The data above 95% percent, and below 5% percent will be removed\n",
        "lower_e = df.eruptions.quantile(.05)\n",
        "upper_e = df.eruptions.quantile(.95)\n",
        "\n",
        "lower_w = df.waiting.quantile(.05)\n",
        "upper_w = df.waiting.quantile(.95)"
      ],
      "execution_count": 207,
      "outputs": []
    },
    {
      "cell_type": "code",
      "metadata": {
        "id": "HzYZMSnftiNZ"
      },
      "source": [
        "df_cleaned = df[(lower_e < df.eruptions) & (df.eruptions < upper_e) &\n",
        "                (lower_w < df.waiting) & (df.waiting < upper_w)]"
      ],
      "execution_count": 212,
      "outputs": []
    },
    {
      "cell_type": "code",
      "metadata": {
        "colab": {
          "base_uri": "https://localhost:8080/",
          "height": 0
        },
        "id": "iNfWKxCkslSG",
        "outputId": "8b41b508-fa20-4c14-9d04-8be1c41ddc89"
      },
      "source": [
        "print(\"The remaining number of sets of data after \\\n",
        "removing outliers is {}\".format(len(df_cleaned)))"
      ],
      "execution_count": 224,
      "outputs": [
        {
          "output_type": "stream",
          "name": "stdout",
          "text": [
            "The remaining number of sets of data after removing outliers is 223\n"
          ]
        }
      ]
    },
    {
      "cell_type": "code",
      "metadata": {
        "colab": {
          "base_uri": "https://localhost:8080/",
          "height": 356
        },
        "id": "K2PZ7wsYu0A3",
        "outputId": "f1868bb0-87a5-4470-a4cc-44c6e906ac31"
      },
      "source": [
        "# let's have a breif look at the distribution of the data\n",
        "sns.set_theme(style=\"whitegrid\")\n",
        "\n",
        "fig, axes = plt.subplots(1, 2, figsize=(10, 5))\n",
        "ax1 = axes[0]\n",
        "ax2 = axes[1]\n",
        "sns.boxplot(ax=ax1, data=df_cleaned, x=\"eruptions\")\n",
        "sns.boxplot(ax=ax2, data=df_cleaned, x=\"waiting\", palette=\"Reds\")"
      ],
      "execution_count": 217,
      "outputs": [
        {
          "output_type": "execute_result",
          "data": {
            "text/plain": [
              "<matplotlib.axes._subplots.AxesSubplot at 0x7f04826d8e10>"
            ]
          },
          "metadata": {},
          "execution_count": 217
        },
        {
          "output_type": "display_data",
          "data": {
            "image/png": "[encoded data removed]",
            "text/plain": [
              "<Figure size 720x360 with 2 Axes>"
            ]
          },
          "metadata": {}
        }
      ]
    },
    {
      "cell_type": "code",
      "metadata": {
        "colab": {
          "base_uri": "https://localhost:8080/",
          "height": 356
        },
        "id": "FAezu0ppstgq",
        "outputId": "185867a6-1c0f-4164-94a6-ded39ceea2fc"
      },
      "source": [
        "# let's have a breif look at the distribution of the data\n",
        "sns.set_theme(style=\"whitegrid\")\n",
        "\n",
        "fig, axes = plt.subplots(1, 2, figsize=(10, 5))\n",
        "ax1 = axes[0]\n",
        "ax2 = axes[1]\n",
        "sns.violinplot(ax=ax1, data=df_cleaned, x=\"eruptions\")\n",
        "sns.violinplot(ax=ax2, data=df_cleaned, x=\"waiting\", palette=\"Reds\")"
      ],
      "execution_count": 214,
      "outputs": [
        {
          "output_type": "execute_result",
          "data": {
            "text/plain": [
              "<matplotlib.axes._subplots.AxesSubplot at 0x7f048284fd50>"
            ]
          },
          "metadata": {},
          "execution_count": 214
        },
        {
          "output_type": "display_data",
          "data": {
            "image/png": "[encoded data removed]",
            "text/plain": [
              "<Figure size 720x360 with 2 Axes>"
            ]
          },
          "metadata": {}
        }
      ]
    },
    {
      "cell_type": "markdown",
      "metadata": {
        "id": "nVlgD06TvjgV"
      },
      "source": [
        "From the plot we can expect a strong linear relationship between  \n",
        "eruptions and waiting."
      ]
    },
    {
      "cell_type": "markdown",
      "metadata": {
        "id": "seB643Ve0wiX"
      },
      "source": [
        "# Explore Data"
      ]
    },
    {
      "cell_type": "code",
      "metadata": {
        "colab": {
          "base_uri": "https://localhost:8080/",
          "height": 295
        },
        "id": "hTOQ2DgT0yrA",
        "outputId": "2ccb8527-36f0-407b-99ab-8f3475e22c06"
      },
      "source": [
        "# Let's take a look of the cleaned data\n",
        "df_cleaned.describe()"
      ],
      "execution_count": 253,
      "outputs": [
        {
          "output_type": "execute_result",
          "data": {
            "text/html": [
              "<div>\n",
              "<style scoped>\n",
              "    .dataframe tbody tr th:only-of-type {\n",
              "        vertical-align: middle;\n",
              "    }\n",
              "\n",
              "    .dataframe tbody tr th {\n",
              "        vertical-align: top;\n",
              "    }\n",
              "\n",
              "    .dataframe thead th {\n",
              "        text-align: right;\n",
              "    }\n",
              "</style>\n",
              "<table border=\"1\" class=\"dataframe\">\n",
              "  <thead>\n",
              "    <tr style=\"text-align: right;\">\n",
              "      <th></th>\n",
              "      <th>eruptions</th>\n",
              "      <th>waiting</th>\n",
              "    </tr>\n",
              "  </thead>\n",
              "  <tbody>\n",
              "    <tr>\n",
              "      <th>count</th>\n",
              "      <td>223.000000</td>\n",
              "      <td>223.000000</td>\n",
              "    </tr>\n",
              "    <tr>\n",
              "      <th>mean</th>\n",
              "      <td>3.538031</td>\n",
              "      <td>71.139013</td>\n",
              "    </tr>\n",
              "    <tr>\n",
              "      <th>std</th>\n",
              "      <td>1.037567</td>\n",
              "      <td>11.823913</td>\n",
              "    </tr>\n",
              "    <tr>\n",
              "      <th>min</th>\n",
              "      <td>1.817000</td>\n",
              "      <td>48.000000</td>\n",
              "    </tr>\n",
              "    <tr>\n",
              "      <th>25%</th>\n",
              "      <td>2.325000</td>\n",
              "      <td>59.000000</td>\n",
              "    </tr>\n",
              "    <tr>\n",
              "      <th>50%</th>\n",
              "      <td>4.000000</td>\n",
              "      <td>76.000000</td>\n",
              "    </tr>\n",
              "    <tr>\n",
              "      <th>75%</th>\n",
              "      <td>4.417000</td>\n",
              "      <td>81.000000</td>\n",
              "    </tr>\n",
              "    <tr>\n",
              "      <th>max</th>\n",
              "      <td>4.817000</td>\n",
              "      <td>88.000000</td>\n",
              "    </tr>\n",
              "  </tbody>\n",
              "</table>\n",
              "</div>"
            ],
            "text/plain": [
              "        eruptions     waiting\n",
              "count  223.000000  223.000000\n",
              "mean     3.538031   71.139013\n",
              "std      1.037567   11.823913\n",
              "min      1.817000   48.000000\n",
              "25%      2.325000   59.000000\n",
              "50%      4.000000   76.000000\n",
              "75%      4.417000   81.000000\n",
              "max      4.817000   88.000000"
            ]
          },
          "metadata": {},
          "execution_count": 253
        }
      ]
    },
    {
      "cell_type": "code",
      "metadata": {
        "colab": {
          "base_uri": "https://localhost:8080/",
          "height": 339
        },
        "id": "sfERcZ4e1Z15",
        "outputId": "d8c259bc-6805-47fe-ddb7-4c9b7ad88f39"
      },
      "source": [
        "plt.figure(figsize=(10, 5))\n",
        "ax = sns.scatterplot(data=df_cleaned, x=\"waiting\", y=\"eruptions\", color=\"orange\")\n",
        "ax.set(xlabel=\"Waiting time between eruptions (Minutes)\", ylabel=\"Duration of eruptions (Minutes)\")\n",
        "plt.show()"
      ],
      "execution_count": 264,
      "outputs": [
        {
          "output_type": "display_data",
          "data": {
            "image/png": "[encoded data removed]",
            "text/plain": [
              "<Figure size 720x360 with 1 Axes>"
            ]
          },
          "metadata": {}
        }
      ]
    },
    {
      "cell_type": "code",
      "metadata": {
        "id": "9rJlExid7cRN"
      },
      "source": [
        "df_cleaned.to_csv(\"cleaned_geyeser.csv\")"
      ],
      "execution_count": 265,
      "outputs": []
    },
    {
      "cell_type": "markdown",
      "metadata": {
        "id": "zwxJLxlWHKMr"
      },
      "source": [
        "# Explore Data"
      ]
    },
    {
      "cell_type": "markdown",
      "metadata": {
        "id": "-o6PjrVbHNVm"
      },
      "source": [
        "To analyze the relationship between waiting time and duration of the  \n",
        "eruption, we will try the following regressor:  \n",
        "(Three Linear Models and One Ensemble Model)  \n",
        "\n",
        "\n",
        "*   Linear Regressor\n",
        "*   Lasso Regressor\n",
        "\n",
        "\n",
        "*   Ridge Regressor\n",
        "*   Random Forest Regressor\n",
        "\n",
        "\n",
        "\n"
      ]
    },
    {
      "cell_type": "markdown",
      "metadata": {
        "id": "R8pNTYhxINi5"
      },
      "source": [
        "\\* Consider the requirements of this home work, I will not fine tune \n",
        "the parameters of these different models. "
      ]
    },
    {
      "cell_type": "code",
      "metadata": {
        "id": "XVN3vWmiH6FN"
      },
      "source": [
        "# Import the sklearn regressors\n",
        "from sklearn.ensemble import RandomForestRegressor\n",
        "from sklearn.linear_model import LinearRegression\n",
        "from sklearn.linear_model import Ridge\n",
        "from sklearn.linear_model import Lasso\n",
        "from sklearn.model_selection import train_test_split\n",
        "from sklearn import metrics"
      ],
      "execution_count": 287,
      "outputs": []
    },
    {
      "cell_type": "code",
      "metadata": {
        "id": "kuhSTjIfJ5tl"
      },
      "source": [
        "X = df_cleaned.waiting.to_numpy().reshape(-1, 1)\n",
        "y = df_cleaned.eruptions.to_numpy().reshape(-1, 1).ravel()"
      ],
      "execution_count": 296,
      "outputs": []
    },
    {
      "cell_type": "code",
      "metadata": {
        "id": "xnZrtcheKgSm"
      },
      "source": [
        "# Split the data into training data and test data\n",
        "X_train, X_test, y_train, y_test = train_test_split(X, y, test_size=0.2,\n",
        "                            random_state=2021, shuffle=True)"
      ],
      "execution_count": 297,
      "outputs": []
    },
    {
      "cell_type": "code",
      "metadata": {
        "colab": {
          "base_uri": "https://localhost:8080/",
          "height": 0
        },
        "id": "RhTPmV6CLISw",
        "outputId": "a4eca534-1207-46f9-92c3-2512615244a8"
      },
      "source": [
        "model = LinearRegression()\n",
        "model.fit(X_train, y_train)\n",
        "y_pred = model.predict(X_test)\n",
        "metrics.mean_absolute_error(y_test, y_pred)"
      ],
      "execution_count": 288,
      "outputs": [
        {
          "output_type": "execute_result",
          "data": {
            "text/plain": [
              "0.43581405000666024"
            ]
          },
          "metadata": {},
          "execution_count": 288
        }
      ]
    },
    {
      "cell_type": "code",
      "metadata": {
        "id": "rKbpkh7CRB-r"
      },
      "source": [
        "def train_test_model(model, feature, label):\n",
        "  model.fit(feature[0], label[0])\n",
        "  y_pred = model.predict(feature[1])\n",
        "  MAE = metrics.mean_absolute_error(label[1], y_pred)\n",
        "  MSE = metrics.mean_squared_error(label[1], y_pred)\n",
        "  R2 = metrics.r2_score(label[1], y_pred)\n",
        "  print(\"Mean Absolute Error: {}\\nMean Squared Error:\\\n",
        "   {}\\nR Squared: {}\".format(MAE, MSE, R2))\n",
        "  plt.figure()\n",
        "  ax1 = sns.scatterplot(data=df_cleaned, x=\"waiting\", y=\"eruptions\")\n",
        "  dots = np.arange(35, 95, 0.01)\n",
        "  sns.lineplot(ax=ax1, x=dots, y=model.predict(dots.reshape(-1, 1)), color=\"red\")\n",
        "  plt.title(type(model).__name__)\n",
        "  plt.show()\n",
        "  return MAE, MSE, R2"
      ],
      "execution_count": 335,
      "outputs": []
    },
    {
      "cell_type": "code",
      "metadata": {
        "colab": {
          "base_uri": "https://localhost:8080/",
          "height": 1000
        },
        "id": "g8y-uSxbTB_o",
        "outputId": "472ba81e-5e76-4c28-dfbd-3a6426fce869"
      },
      "source": [
        "%matplotlib inline\n",
        "for model in [LinearRegression(), Ridge(), Lasso(), RandomForestRegressor()]:\n",
        "  print(model)\n",
        "  train_test_model(model, [X_train, X_test], [y_train, y_test])\n",
        "  print(\"\\n\")"
      ],
      "execution_count": 336,
      "outputs": [
        {
          "output_type": "stream",
          "name": "stdout",
          "text": [
            "LinearRegression(copy_X=True, fit_intercept=True, n_jobs=None, normalize=False)\n",
            "Mean Absolute Error: 0.43581405000666024\n",
            "Mean Squared Error:   0.2627034828077211\n",
            "R Squared: 0.7648776901154541\n"
          ]
        },
        {
          "output_type": "display_data",
          "data": {
            "image/png": "[encoded data removed]",
            "text/plain": [
              "<Figure size 432x288 with 1 Axes>"
            ]
          },
          "metadata": {
            "needs_background": "light"
          }
        },
        {
          "output_type": "stream",
          "name": "stdout",
          "text": [
            "\n",
            "\n",
            "Ridge(alpha=1.0, copy_X=True, fit_intercept=True, max_iter=None,\n",
            "      normalize=False, random_state=None, solver='auto', tol=0.001)\n",
            "Mean Absolute Error: 0.43581605354899156\n",
            "Mean Squared Error:   0.2627074758659031\n",
            "R Squared: 0.7648741162874515\n"
          ]
        },
        {
          "output_type": "display_data",
          "data": {
            "image/png": "[encoded data removed]",
            "text/plain": [
              "<Figure size 432x288 with 1 Axes>"
            ]
          },
          "metadata": {
            "needs_background": "light"
          }
        },
        {
          "output_type": "stream",
          "name": "stdout",
          "text": [
            "\n",
            "\n",
            "Lasso(alpha=1.0, copy_X=True, fit_intercept=True, max_iter=1000,\n",
            "      normalize=False, positive=False, precompute=False, random_state=None,\n",
            "      selection='cyclic', tol=0.0001, warm_start=False)\n",
            "Mean Absolute Error: 0.4489027061293673\n",
            "Mean Squared Error:   0.27874077560821475\n",
            "R Squared: 0.7505241486730411\n"
          ]
        },
        {
          "output_type": "display_data",
          "data": {
            "image/png": "[encoded data removed]",
            "text/plain": [
              "<Figure size 432x288 with 1 Axes>"
            ]
          },
          "metadata": {
            "needs_background": "light"
          }
        },
        {
          "output_type": "stream",
          "name": "stdout",
          "text": [
            "\n",
            "\n",
            "RandomForestRegressor(bootstrap=True, ccp_alpha=0.0, criterion='mse',\n",
            "                      max_depth=None, max_features='auto', max_leaf_nodes=None,\n",
            "                      max_samples=None, min_impurity_decrease=0.0,\n",
            "                      min_impurity_split=None, min_samples_leaf=1,\n",
            "                      min_samples_split=2, min_weight_fraction_leaf=0.0,\n",
            "                      n_estimators=100, n_jobs=None, oob_score=False,\n",
            "                      random_state=None, verbose=0, warm_start=False)\n",
            "Mean Absolute Error: 0.3636911178466053\n",
            "Mean Squared Error:   0.23447052084288267\n",
            "R Squared: 0.7901464804683936\n"
          ]
        },
        {
          "output_type": "display_data",
          "data": {
            "image/png": "[encoded data removed]",
            "text/plain": [
              "<Figure size 432x288 with 1 Axes>"
            ]
          },
          "metadata": {
            "needs_background": "light"
          }
        },
        {
          "output_type": "stream",
          "name": "stdout",
          "text": [
            "\n",
            "\n"
          ]
        }
      ]
    },
    {
      "cell_type": "markdown",
      "metadata": {
        "id": "t-h1Qia3YndU"
      },
      "source": [
        "# Summarize data and results"
      ]
    },
    {
      "cell_type": "markdown",
      "metadata": {
        "id": "1SHm3pByYq8n"
      },
      "source": [
        "From the results we can see that the Waiting time of eruptions and the \n",
        "eruptions duration have a strong linear relationship and the random forest\n",
        "model achieved the best perfpormance."
      ]
    },
    {
      "cell_type": "code",
      "metadata": {
        "id": "szbsoMbybM99"
      },
      "source": [
        "# Get the pdf\n",
        "!apt-get install texlive texlive-xetex texlive-latex-extra pandoc\n",
        "!pip install pypandoc"
      ],
      "execution_count": null,
      "outputs": []
    },
    {
      "cell_type": "code",
      "metadata": {
        "colab": {
          "base_uri": "https://localhost:8080/"
        },
        "id": "DlgIs-K5bWCV",
        "outputId": "8030f80b-6179-4352-bdc0-da25706a2241"
      },
      "source": [
        "from google.colab import drive\n",
        "drive.mount('/content/drive')"
      ],
      "execution_count": 338,
      "outputs": [
        {
          "output_type": "stream",
          "name": "stdout",
          "text": [
            "Mounted at /content/drive\n"
          ]
        }
      ]
    },
    {
      "cell_type": "code",
      "metadata": {
        "id": "w2yhdv9Fbvku"
      },
      "source": [
        "!cp drive/My\\ Drive/Colab\\ Notebooks/Better\\ Data\\ Treatment.ipynb ./"
      ],
      "execution_count": 341,
      "outputs": []
    },
    {
      "cell_type": "code",
      "metadata": {
        "id": "gL39Et9LcDNv"
      },
      "source": [
        "!jupyter nbconvert --to PDF \"Better Data Treatment.ipynb\""
      ],
      "execution_count": null,
      "outputs": []
    }
  ]
}